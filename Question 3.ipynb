{
 "cells": [
  {
   "cell_type": "code",
   "execution_count": 1,
   "id": "c06081fa",
   "metadata": {},
   "outputs": [],
   "source": [
    "import pandas as pd\n",
    "import numpy as np\n",
    "import random"
   ]
  },
  {
   "cell_type": "markdown",
   "id": "6c76dc2f",
   "metadata": {},
   "source": [
    "# a"
   ]
  },
  {
   "cell_type": "code",
   "execution_count": 2,
   "id": "d20eaedb",
   "metadata": {},
   "outputs": [],
   "source": [
    "sr=pd.Series(['Madhuri','AjaySh@rma','R@ni','np.nan','Smita','3567'])"
   ]
  },
  {
   "cell_type": "code",
   "execution_count": 3,
   "id": "625959f9",
   "metadata": {},
   "outputs": [
    {
     "data": {
      "text/plain": [
       "0     7\n",
       "1    10\n",
       "2     4\n",
       "3     6\n",
       "4     5\n",
       "5     4\n",
       "dtype: int64"
      ]
     },
     "execution_count": 3,
     "metadata": {},
     "output_type": "execute_result"
    }
   ],
   "source": [
    "sr.str.len()"
   ]
  },
  {
   "cell_type": "code",
   "execution_count": 4,
   "id": "622230bc",
   "metadata": {},
   "outputs": [],
   "source": [
    "sr=sr.str.replace('@','a')"
   ]
  },
  {
   "cell_type": "code",
   "execution_count": 5,
   "id": "876aa1fa",
   "metadata": {},
   "outputs": [
    {
     "data": {
      "text/plain": [
       "0       Madhuri\n",
       "1    AjaySharma\n",
       "2          Rani\n",
       "3        np.nan\n",
       "4         Smita\n",
       "5          3567\n",
       "dtype: object"
      ]
     },
     "execution_count": 5,
     "metadata": {},
     "output_type": "execute_result"
    }
   ],
   "source": [
    "sr"
   ]
  },
  {
   "cell_type": "code",
   "execution_count": 6,
   "id": "fa4abe0a",
   "metadata": {},
   "outputs": [
    {
     "name": "stdout",
     "output_type": "stream",
     "text": [
      "1\n",
      "3\n",
      "1\n",
      "1\n",
      "1\n",
      "0\n"
     ]
    }
   ],
   "source": [
    "for i in sr:\n",
    "    print(i.count('a'))"
   ]
  },
  {
   "cell_type": "code",
   "execution_count": 7,
   "id": "7e0c315a",
   "metadata": {},
   "outputs": [
    {
     "name": "stdout",
     "output_type": "stream",
     "text": [
      "mADHURI\n",
      "aJAYsHARMA\n",
      "rANI\n",
      "NP.NAN\n",
      "sMITA\n",
      "3567\n"
     ]
    }
   ],
   "source": [
    "for i in sr:\n",
    "    print(i.swapcase())"
   ]
  },
  {
   "cell_type": "code",
   "execution_count": 8,
   "id": "c4e5e6d4",
   "metadata": {},
   "outputs": [
    {
     "name": "stdout",
     "output_type": "stream",
     "text": [
      "Madhuri\n"
     ]
    }
   ],
   "source": [
    "for i in sr:\n",
    "    if(i.count('adh')>0):\n",
    "        print(i)"
   ]
  },
  {
   "cell_type": "code",
   "execution_count": 10,
   "id": "8881bd55",
   "metadata": {},
   "outputs": [
    {
     "name": "stdout",
     "output_type": "stream",
     "text": [
      "0     True\n",
      "1    False\n",
      "2     True\n",
      "3    False\n",
      "4    False\n",
      "5    False\n",
      "dtype: bool\n"
     ]
    }
   ],
   "source": [
    "print(sr.str.endswith('i'))"
   ]
  },
  {
   "cell_type": "markdown",
   "id": "55de0f07",
   "metadata": {},
   "source": [
    "# b"
   ]
  },
  {
   "cell_type": "code",
   "execution_count": 11,
   "id": "64a6aeb1",
   "metadata": {},
   "outputs": [],
   "source": [
    "df=pd.DataFrame(np.random.randint(1,100,size=(7,7)))"
   ]
  },
  {
   "cell_type": "code",
   "execution_count": 12,
   "id": "a6856226",
   "metadata": {},
   "outputs": [
    {
     "data": {
      "text/html": [
       "<div>\n",
       "<style scoped>\n",
       "    .dataframe tbody tr th:only-of-type {\n",
       "        vertical-align: middle;\n",
       "    }\n",
       "\n",
       "    .dataframe tbody tr th {\n",
       "        vertical-align: top;\n",
       "    }\n",
       "\n",
       "    .dataframe thead th {\n",
       "        text-align: right;\n",
       "    }\n",
       "</style>\n",
       "<table border=\"1\" class=\"dataframe\">\n",
       "  <thead>\n",
       "    <tr style=\"text-align: right;\">\n",
       "      <th></th>\n",
       "      <th>0</th>\n",
       "      <th>1</th>\n",
       "      <th>2</th>\n",
       "      <th>3</th>\n",
       "      <th>4</th>\n",
       "      <th>5</th>\n",
       "      <th>6</th>\n",
       "    </tr>\n",
       "  </thead>\n",
       "  <tbody>\n",
       "    <tr>\n",
       "      <th>0</th>\n",
       "      <td>69</td>\n",
       "      <td>39</td>\n",
       "      <td>77</td>\n",
       "      <td>44</td>\n",
       "      <td>33</td>\n",
       "      <td>34</td>\n",
       "      <td>13</td>\n",
       "    </tr>\n",
       "    <tr>\n",
       "      <th>1</th>\n",
       "      <td>62</td>\n",
       "      <td>71</td>\n",
       "      <td>4</td>\n",
       "      <td>19</td>\n",
       "      <td>22</td>\n",
       "      <td>92</td>\n",
       "      <td>24</td>\n",
       "    </tr>\n",
       "    <tr>\n",
       "      <th>2</th>\n",
       "      <td>3</td>\n",
       "      <td>30</td>\n",
       "      <td>81</td>\n",
       "      <td>33</td>\n",
       "      <td>14</td>\n",
       "      <td>76</td>\n",
       "      <td>32</td>\n",
       "    </tr>\n",
       "    <tr>\n",
       "      <th>3</th>\n",
       "      <td>42</td>\n",
       "      <td>98</td>\n",
       "      <td>59</td>\n",
       "      <td>25</td>\n",
       "      <td>99</td>\n",
       "      <td>74</td>\n",
       "      <td>96</td>\n",
       "    </tr>\n",
       "    <tr>\n",
       "      <th>4</th>\n",
       "      <td>82</td>\n",
       "      <td>31</td>\n",
       "      <td>55</td>\n",
       "      <td>78</td>\n",
       "      <td>7</td>\n",
       "      <td>95</td>\n",
       "      <td>90</td>\n",
       "    </tr>\n",
       "    <tr>\n",
       "      <th>5</th>\n",
       "      <td>78</td>\n",
       "      <td>61</td>\n",
       "      <td>61</td>\n",
       "      <td>2</td>\n",
       "      <td>97</td>\n",
       "      <td>95</td>\n",
       "      <td>74</td>\n",
       "    </tr>\n",
       "    <tr>\n",
       "      <th>6</th>\n",
       "      <td>2</td>\n",
       "      <td>71</td>\n",
       "      <td>23</td>\n",
       "      <td>35</td>\n",
       "      <td>88</td>\n",
       "      <td>45</td>\n",
       "      <td>1</td>\n",
       "    </tr>\n",
       "  </tbody>\n",
       "</table>\n",
       "</div>"
      ],
      "text/plain": [
       "    0   1   2   3   4   5   6\n",
       "0  69  39  77  44  33  34  13\n",
       "1  62  71   4  19  22  92  24\n",
       "2   3  30  81  33  14  76  32\n",
       "3  42  98  59  25  99  74  96\n",
       "4  82  31  55  78   7  95  90\n",
       "5  78  61  61   2  97  95  74\n",
       "6   2  71  23  35  88  45   1"
      ]
     },
     "execution_count": 12,
     "metadata": {},
     "output_type": "execute_result"
    }
   ],
   "source": [
    "df"
   ]
  },
  {
   "cell_type": "code",
   "execution_count": 13,
   "id": "c97feb3e",
   "metadata": {},
   "outputs": [
    {
     "data": {
      "text/plain": [
       "0    1.0\n",
       "1    1.0\n",
       "2    1.0\n",
       "3    1.0\n",
       "4    1.0\n",
       "5    1.0\n",
       "6    1.0\n",
       "dtype: float64"
      ]
     },
     "execution_count": 13,
     "metadata": {},
     "output_type": "execute_result"
    }
   ],
   "source": [
    "df.corrwith(df,axis=1)"
   ]
  },
  {
   "cell_type": "markdown",
   "id": "e7fb2253",
   "metadata": {},
   "source": [
    "# c"
   ]
  },
  {
   "cell_type": "code",
   "execution_count": 14,
   "id": "914529fb",
   "metadata": {},
   "outputs": [],
   "source": [
    "rand_num=np.random.normal(55,150,100)"
   ]
  },
  {
   "cell_type": "code",
   "execution_count": 15,
   "id": "a9557e5b",
   "metadata": {},
   "outputs": [
    {
     "data": {
      "text/plain": [
       "array([ -12.63213173, -132.51809463,  -69.66182615,   -4.55408646,\n",
       "         73.71837436,   36.4829216 ,  349.13076113,  -82.02575188,\n",
       "       -159.4144295 , -139.21536949,  -28.21722657,   80.66453662,\n",
       "        269.08776292, -120.52174081,  307.08985582,  189.07392866,\n",
       "        146.84026239,   42.8467592 ,  125.13213471,  -47.38948594,\n",
       "       -121.72272951,  237.55688724,  254.61767618,   57.07123742,\n",
       "         -6.88887257,  202.32032365,   15.05623288, -161.44249673,\n",
       "       -256.20997363,  117.20098494,  383.50565039,  114.77446132,\n",
       "         41.67415643,  145.31365311,  199.71836498,  279.9249933 ,\n",
       "         76.21242902,  154.61645031,  -38.56881047,  109.2883561 ,\n",
       "         94.88359964,    6.06714201, -204.54941503, -128.18535095,\n",
       "         -7.67524279,   50.7639106 ,  172.59318169,  201.10300467,\n",
       "        164.43434566,  101.63500431,  -34.69147387, -233.51378645,\n",
       "        142.55384747, -305.18902798,    5.85103298,   26.2365677 ,\n",
       "        -74.78591787,  202.53112057,  272.52364048,  247.41177047,\n",
       "          2.07537233, -164.85435035,  292.67336111,   45.16199424,\n",
       "        264.89219213,   44.77402669,  -87.13213986,   21.04292571,\n",
       "       -140.78345574,  320.3575734 ,  194.61047003,  185.22504376,\n",
       "         19.99095863, -120.69104006, -289.38031101,  -55.34396925,\n",
       "        -82.38624621,  245.84682737,   14.65599417,  115.54927954,\n",
       "         74.68578268,   86.65629862,   27.8502695 ,   42.49682959,\n",
       "        146.85040727,  209.26416549, -284.44769707, -182.28417901,\n",
       "       -134.73901438,  -87.72231036, -132.84338135,  171.25115254,\n",
       "       -152.04249824,   74.99376601,   35.18844305,  282.04555291,\n",
       "        269.05461588,  151.07750705,   38.25571876,  314.49532081])"
      ]
     },
     "execution_count": 15,
     "metadata": {},
     "output_type": "execute_result"
    }
   ],
   "source": [
    "rand_num"
   ]
  },
  {
   "cell_type": "code",
   "execution_count": 18,
   "id": "3fc14dda",
   "metadata": {},
   "outputs": [],
   "source": [
    "rand_num=rand_num.reshape(10,10)"
   ]
  },
  {
   "cell_type": "code",
   "execution_count": 19,
   "id": "06a5835b",
   "metadata": {},
   "outputs": [],
   "source": [
    "np. fill_diagonal(rand_num, 1)"
   ]
  },
  {
   "cell_type": "code",
   "execution_count": 20,
   "id": "60b1e9fd",
   "metadata": {},
   "outputs": [
    {
     "data": {
      "text/plain": [
       "array([[   1.        , -132.51809463,  -69.66182615,   -4.55408646,\n",
       "          73.71837436,   36.4829216 ,  349.13076113,  -82.02575188,\n",
       "        -159.4144295 , -139.21536949],\n",
       "       [ -28.21722657,    1.        ,  269.08776292, -120.52174081,\n",
       "         307.08985582,  189.07392866,  146.84026239,   42.8467592 ,\n",
       "         125.13213471,  -47.38948594],\n",
       "       [-121.72272951,  237.55688724,    1.        ,   57.07123742,\n",
       "          -6.88887257,  202.32032365,   15.05623288, -161.44249673,\n",
       "        -256.20997363,  117.20098494],\n",
       "       [ 383.50565039,  114.77446132,   41.67415643,    1.        ,\n",
       "         199.71836498,  279.9249933 ,   76.21242902,  154.61645031,\n",
       "         -38.56881047,  109.2883561 ],\n",
       "       [  94.88359964,    6.06714201, -204.54941503, -128.18535095,\n",
       "           1.        ,   50.7639106 ,  172.59318169,  201.10300467,\n",
       "         164.43434566,  101.63500431],\n",
       "       [ -34.69147387, -233.51378645,  142.55384747, -305.18902798,\n",
       "           5.85103298,    1.        ,  -74.78591787,  202.53112057,\n",
       "         272.52364048,  247.41177047],\n",
       "       [   2.07537233, -164.85435035,  292.67336111,   45.16199424,\n",
       "         264.89219213,   44.77402669,    1.        ,   21.04292571,\n",
       "        -140.78345574,  320.3575734 ],\n",
       "       [ 194.61047003,  185.22504376,   19.99095863, -120.69104006,\n",
       "        -289.38031101,  -55.34396925,  -82.38624621,    1.        ,\n",
       "          14.65599417,  115.54927954],\n",
       "       [  74.68578268,   86.65629862,   27.8502695 ,   42.49682959,\n",
       "         146.85040727,  209.26416549, -284.44769707, -182.28417901,\n",
       "           1.        ,  -87.72231036],\n",
       "       [-132.84338135,  171.25115254, -152.04249824,   74.99376601,\n",
       "          35.18844305,  282.04555291,  269.05461588,  151.07750705,\n",
       "          38.25571876,    1.        ]])"
      ]
     },
     "execution_count": 20,
     "metadata": {},
     "output_type": "execute_result"
    }
   ],
   "source": [
    "rand_num"
   ]
  },
  {
   "cell_type": "code",
   "execution_count": null,
   "id": "eb4311c0",
   "metadata": {},
   "outputs": [],
   "source": []
  }
 ],
 "metadata": {
  "kernelspec": {
   "display_name": "Python 3 (ipykernel)",
   "language": "python",
   "name": "python3"
  },
  "language_info": {
   "codemirror_mode": {
    "name": "ipython",
    "version": 3
   },
   "file_extension": ".py",
   "mimetype": "text/x-python",
   "name": "python",
   "nbconvert_exporter": "python",
   "pygments_lexer": "ipython3",
   "version": "3.9.6"
  }
 },
 "nbformat": 4,
 "nbformat_minor": 5
}
