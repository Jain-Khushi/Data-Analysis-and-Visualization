{
 "cells": [
  {
   "cell_type": "code",
   "execution_count": 4,
   "id": "03c128e9",
   "metadata": {},
   "outputs": [],
   "source": [
    "import numpy as np\n",
    "import pandas as pd"
   ]
  },
  {
   "cell_type": "code",
   "execution_count": 5,
   "id": "22c33249",
   "metadata": {},
   "outputs": [],
   "source": [
    "# Ques-3\n",
    "# Part (a)\n",
    "sr = pd.Series(['Madhuri','AjaySh@rma', 'R@ni', 'Radha',np.nan,'Smita','3567'])"
   ]
  },
  {
   "cell_type": "code",
   "execution_count": 6,
   "id": "a531551c",
   "metadata": {},
   "outputs": [
    {
     "data": {
      "text/plain": [
       "0     7.0\n",
       "1    10.0\n",
       "2     4.0\n",
       "3     5.0\n",
       "4     NaN\n",
       "5     5.0\n",
       "6     4.0\n",
       "dtype: float64"
      ]
     },
     "execution_count": 6,
     "metadata": {},
     "output_type": "execute_result"
    }
   ],
   "source": [
    "sr.str.len()"
   ]
  },
  {
   "cell_type": "code",
   "execution_count": 7,
   "id": "e3ec8d9a",
   "metadata": {},
   "outputs": [
    {
     "data": {
      "text/plain": [
       "0       Madhuri\n",
       "1    AjaySharma\n",
       "2          Rani\n",
       "3         Radha\n",
       "4           NaN\n",
       "5         Smita\n",
       "6          3567\n",
       "dtype: object"
      ]
     },
     "execution_count": 7,
     "metadata": {},
     "output_type": "execute_result"
    }
   ],
   "source": [
    "sr.str.replace(\"@\",\"a\")"
   ]
  },
  {
   "cell_type": "code",
   "execution_count": 8,
   "id": "6418a9b7",
   "metadata": {},
   "outputs": [
    {
     "data": {
      "text/plain": [
       "0    1.0\n",
       "1    2.0\n",
       "2    0.0\n",
       "3    2.0\n",
       "4    NaN\n",
       "5    1.0\n",
       "6    0.0\n",
       "dtype: float64"
      ]
     },
     "execution_count": 8,
     "metadata": {},
     "output_type": "execute_result"
    }
   ],
   "source": [
    "sr.str.count('a')"
   ]
  },
  {
   "cell_type": "code",
   "execution_count": 9,
   "id": "2b0c4b46",
   "metadata": {},
   "outputs": [
    {
     "data": {
      "text/plain": [
       "0       mADHURI\n",
       "1    aJAYsH@RMA\n",
       "2          r@NI\n",
       "3         rADHA\n",
       "4           NaN\n",
       "5         sMITA\n",
       "6          3567\n",
       "dtype: object"
      ]
     },
     "execution_count": 9,
     "metadata": {},
     "output_type": "execute_result"
    }
   ],
   "source": [
    "sr.str.swapcase()"
   ]
  },
  {
   "cell_type": "code",
   "execution_count": 10,
   "id": "61cced17",
   "metadata": {},
   "outputs": [
    {
     "data": {
      "text/plain": [
       "0    [adh]\n",
       "1       []\n",
       "2       []\n",
       "3    [adh]\n",
       "4      NaN\n",
       "5       []\n",
       "6       []\n",
       "dtype: object"
      ]
     },
     "execution_count": 10,
     "metadata": {},
     "output_type": "execute_result"
    }
   ],
   "source": [
    "sr.str.findall('adh')"
   ]
  },
  {
   "cell_type": "code",
   "execution_count": 11,
   "id": "91e05853",
   "metadata": {},
   "outputs": [
    {
     "data": {
      "text/plain": [
       "0     True\n",
       "1    False\n",
       "2     True\n",
       "3    False\n",
       "4      NaN\n",
       "5    False\n",
       "6    False\n",
       "dtype: object"
      ]
     },
     "execution_count": 11,
     "metadata": {},
     "output_type": "execute_result"
    }
   ],
   "source": [
    "sr.str.endswith('i')"
   ]
  },
  {
   "cell_type": "code",
   "execution_count": 12,
   "id": "21a7c1fc",
   "metadata": {},
   "outputs": [],
   "source": [
    "# Ques-3\n",
    "# Part (b)\n",
    "df = pd.DataFrame(np.random.randint(0,100,size=(7, 7)))"
   ]
  },
  {
   "cell_type": "code",
   "execution_count": 13,
   "id": "f737181d",
   "metadata": {},
   "outputs": [
    {
     "data": {
      "text/html": [
       "<div>\n",
       "<style scoped>\n",
       "    .dataframe tbody tr th:only-of-type {\n",
       "        vertical-align: middle;\n",
       "    }\n",
       "\n",
       "    .dataframe tbody tr th {\n",
       "        vertical-align: top;\n",
       "    }\n",
       "\n",
       "    .dataframe thead th {\n",
       "        text-align: right;\n",
       "    }\n",
       "</style>\n",
       "<table border=\"1\" class=\"dataframe\">\n",
       "  <thead>\n",
       "    <tr style=\"text-align: right;\">\n",
       "      <th></th>\n",
       "      <th>0</th>\n",
       "      <th>1</th>\n",
       "      <th>2</th>\n",
       "      <th>3</th>\n",
       "      <th>4</th>\n",
       "      <th>5</th>\n",
       "      <th>6</th>\n",
       "    </tr>\n",
       "  </thead>\n",
       "  <tbody>\n",
       "    <tr>\n",
       "      <th>0</th>\n",
       "      <td>31</td>\n",
       "      <td>10</td>\n",
       "      <td>38</td>\n",
       "      <td>9</td>\n",
       "      <td>21</td>\n",
       "      <td>50</td>\n",
       "      <td>0</td>\n",
       "    </tr>\n",
       "    <tr>\n",
       "      <th>1</th>\n",
       "      <td>64</td>\n",
       "      <td>11</td>\n",
       "      <td>2</td>\n",
       "      <td>24</td>\n",
       "      <td>79</td>\n",
       "      <td>75</td>\n",
       "      <td>22</td>\n",
       "    </tr>\n",
       "    <tr>\n",
       "      <th>2</th>\n",
       "      <td>87</td>\n",
       "      <td>29</td>\n",
       "      <td>90</td>\n",
       "      <td>67</td>\n",
       "      <td>85</td>\n",
       "      <td>89</td>\n",
       "      <td>47</td>\n",
       "    </tr>\n",
       "    <tr>\n",
       "      <th>3</th>\n",
       "      <td>89</td>\n",
       "      <td>47</td>\n",
       "      <td>60</td>\n",
       "      <td>53</td>\n",
       "      <td>32</td>\n",
       "      <td>35</td>\n",
       "      <td>98</td>\n",
       "    </tr>\n",
       "    <tr>\n",
       "      <th>4</th>\n",
       "      <td>68</td>\n",
       "      <td>82</td>\n",
       "      <td>32</td>\n",
       "      <td>35</td>\n",
       "      <td>68</td>\n",
       "      <td>84</td>\n",
       "      <td>15</td>\n",
       "    </tr>\n",
       "    <tr>\n",
       "      <th>5</th>\n",
       "      <td>57</td>\n",
       "      <td>41</td>\n",
       "      <td>93</td>\n",
       "      <td>61</td>\n",
       "      <td>99</td>\n",
       "      <td>54</td>\n",
       "      <td>15</td>\n",
       "    </tr>\n",
       "    <tr>\n",
       "      <th>6</th>\n",
       "      <td>19</td>\n",
       "      <td>68</td>\n",
       "      <td>9</td>\n",
       "      <td>47</td>\n",
       "      <td>15</td>\n",
       "      <td>1</td>\n",
       "      <td>38</td>\n",
       "    </tr>\n",
       "  </tbody>\n",
       "</table>\n",
       "</div>"
      ],
      "text/plain": [
       "    0   1   2   3   4   5   6\n",
       "0  31  10  38   9  21  50   0\n",
       "1  64  11   2  24  79  75  22\n",
       "2  87  29  90  67  85  89  47\n",
       "3  89  47  60  53  32  35  98\n",
       "4  68  82  32  35  68  84  15\n",
       "5  57  41  93  61  99  54  15\n",
       "6  19  68   9  47  15   1  38"
      ]
     },
     "execution_count": 13,
     "metadata": {},
     "output_type": "execute_result"
    }
   ],
   "source": [
    "df"
   ]
  },
  {
   "cell_type": "code",
   "execution_count": 28,
   "id": "ce72dc11",
   "metadata": {},
   "outputs": [
    {
     "name": "stdout",
     "output_type": "stream",
     "text": [
      "-0.03462118323226547\n",
      "-0.07574222742430355\n",
      "0.6880467430762371\n",
      "0.4103382900728047\n",
      "0.7370990765781009\n",
      "-0.2751846485953888\n"
     ]
    }
   ],
   "source": [
    "# Compute the correlation of each rowwith the preceding row.\n",
    "for i in range(1,7):\n",
    "    print(df[i].corr(df[i-1]))"
   ]
  },
  {
   "cell_type": "code",
   "execution_count": 17,
   "id": "ea6fbaeb",
   "metadata": {},
   "outputs": [
    {
     "data": {
      "text/plain": [
       "96"
      ]
     },
     "execution_count": 17,
     "metadata": {},
     "output_type": "execute_result"
    }
   ],
   "source": [
    "x.argmin()"
   ]
  },
  {
   "cell_type": "code",
   "execution_count": 18,
   "id": "50391125",
   "metadata": {},
   "outputs": [
    {
     "data": {
      "text/plain": [
       "array([[ 77, 143, 139, 104,  91, 102,  99,  87,  99, 147],\n",
       "       [ 94, 136,  71, 114,  92,  71, 123,  72, 104,  79],\n",
       "       [143,  76, 130,  89,  82, 110,  61,  69,  98,  75],\n",
       "       [117, 134,  80,  70, 136,  95,  67,  79, 105, 125],\n",
       "       [ 94,  56,  90, 131, 134, 147,  89,  62,  72, 146],\n",
       "       [ 60, 134, 149, 112,  79, 147,  89, 136,  85, 107],\n",
       "       [149, 121, 149,  74, 126, 142, 115, 106, 131, 132],\n",
       "       [132, 117, 112, 135, 110,  61,  83,  73, 137, 139],\n",
       "       [ 72,  78, 143, 115,  57,  70,  77,  70,  95, 113],\n",
       "       [ 73, 133,  88, 136,  96,  97,  55,  57,  62, 125]])"
      ]
     },
     "execution_count": 18,
     "metadata": {},
     "output_type": "execute_result"
    }
   ],
   "source": [
    "x.reshape(10,10)"
   ]
  },
  {
   "cell_type": "code",
   "execution_count": 19,
   "id": "4e46d4dc",
   "metadata": {},
   "outputs": [
    {
     "data": {
      "text/plain": [
       "array([[  1., 143., 139., 104.,  91., 102.,  99.,  87.,  99., 147.],\n",
       "       [ 94.,   1.,  71., 114.,  92.,  71., 123.,  72., 104.,  79.],\n",
       "       [143.,  76.,   1.,  89.,  82., 110.,  61.,  69.,  98.,  75.],\n",
       "       [117., 134.,  80.,   1., 136.,  95.,  67.,  79., 105., 125.],\n",
       "       [ 94.,  56.,  90., 131.,   1., 147.,  89.,  62.,  72., 146.],\n",
       "       [ 60., 134., 149., 112.,  79.,   1.,  89., 136.,  85., 107.],\n",
       "       [149., 121., 149.,  74., 126., 142.,   1., 106., 131., 132.],\n",
       "       [132., 117., 112., 135., 110.,  61.,  83.,   1., 137., 139.],\n",
       "       [ 72.,  78., 143., 115.,  57.,  70.,  77.,  70.,   1., 113.],\n",
       "       [ 73., 133.,  88., 136.,  96.,  97.,  55.,  57.,  62.,   1.]])"
      ]
     },
     "execution_count": 19,
     "metadata": {},
     "output_type": "execute_result"
    }
   ],
   "source": [
    "x.reshape(10,10)-np.diag(np.diag(x.reshape(10,10)))+np.eye(10)\n",
    "            "
   ]
  }
 ],
 "metadata": {
  "kernelspec": {
   "display_name": "Python 3 (ipykernel)",
   "language": "python",
   "name": "python3"
  },
  "language_info": {
   "codemirror_mode": {
    "name": "ipython",
    "version": 3
   },
   "file_extension": ".py",
   "mimetype": "text/x-python",
   "name": "python",
   "nbconvert_exporter": "python",
   "pygments_lexer": "ipython3",
   "version": "3.9.12"
  }
 },
 "nbformat": 4,
 "nbformat_minor": 5
}
